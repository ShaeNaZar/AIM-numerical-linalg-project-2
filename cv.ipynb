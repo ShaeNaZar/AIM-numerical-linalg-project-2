{
 "cells": [
  {
   "cell_type": "code",
   "execution_count": 354,
   "metadata": {},
   "outputs": [],
   "source": [
    "import torch\n",
    "import torchvision\n",
    "\n",
    "import os\n",
    "import cv2\n",
    "import numpy as np\n",
    "from PIL import Image\n",
    "import skimage\n",
    "import random\n",
    "\n",
    "import torch\n",
    "from torch import nn\n",
    "import torchvision.transforms as transforms\n",
    "from torch.utils.data import Dataset\n",
    "from torchvision import models\n",
    "\n",
    "from tqdm import tqdm\n",
    "\n",
    "import matplotlib.pyplot as plt\n",
    "from collections import OrderedDict\n",
    "from IPython.display import clear_output\n",
    "device=\"cpu\""
   ]
  },
  {
   "cell_type": "code",
   "execution_count": 17,
   "metadata": {},
   "outputs": [
    {
     "name": "stdout",
     "output_type": "stream",
     "text": [
      "Collecting torchgeometry\n",
      "  Downloading torchgeometry-0.1.2-py2.py3-none-any.whl (42 kB)\n",
      "     -------------------------------------- 42.7/42.7 kB 691.5 kB/s eta 0:00:00\n",
      "Requirement already satisfied: torch>=1.0.0 in c:\\users\\shaenazar\\appdata\\local\\programs\\python\\python311\\lib\\site-packages (from torchgeometry) (2.1.2)\n",
      "Requirement already satisfied: filelock in c:\\users\\shaenazar\\appdata\\local\\programs\\python\\python311\\lib\\site-packages (from torch>=1.0.0->torchgeometry) (3.13.1)\n",
      "Requirement already satisfied: typing-extensions in c:\\users\\shaenazar\\appdata\\local\\programs\\python\\python311\\lib\\site-packages (from torch>=1.0.0->torchgeometry) (4.5.0)\n",
      "Requirement already satisfied: sympy in c:\\users\\shaenazar\\appdata\\local\\programs\\python\\python311\\lib\\site-packages (from torch>=1.0.0->torchgeometry) (1.12)\n",
      "Requirement already satisfied: networkx in c:\\users\\shaenazar\\appdata\\local\\programs\\python\\python311\\lib\\site-packages (from torch>=1.0.0->torchgeometry) (3.2.1)\n",
      "Requirement already satisfied: jinja2 in c:\\users\\shaenazar\\appdata\\local\\programs\\python\\python311\\lib\\site-packages (from torch>=1.0.0->torchgeometry) (3.1.2)\n",
      "Requirement already satisfied: fsspec in c:\\users\\shaenazar\\appdata\\local\\programs\\python\\python311\\lib\\site-packages (from torch>=1.0.0->torchgeometry) (2023.12.2)\n",
      "Requirement already satisfied: MarkupSafe>=2.0 in c:\\users\\shaenazar\\appdata\\local\\programs\\python\\python311\\lib\\site-packages (from jinja2->torch>=1.0.0->torchgeometry) (2.1.3)\n",
      "Requirement already satisfied: mpmath>=0.19 in c:\\users\\shaenazar\\appdata\\local\\programs\\python\\python311\\lib\\site-packages (from sympy->torch>=1.0.0->torchgeometry) (1.3.0)\n",
      "Installing collected packages: torchgeometry\n",
      "Successfully installed torchgeometry-0.1.2\n",
      "Note: you may need to restart the kernel to use updated packages.\n"
     ]
    },
    {
     "name": "stderr",
     "output_type": "stream",
     "text": [
      "\n",
      "[notice] A new release of pip available: 22.3.1 -> 23.3.2\n",
      "[notice] To update, run: python.exe -m pip install --upgrade pip\n"
     ]
    }
   ],
   "source": [
    "%pip install torchgeometry\n",
    "\n",
    "from torchgeometry.losses import ssim\n",
    "\n"
   ]
  },
  {
   "cell_type": "code",
   "execution_count": 35,
   "metadata": {},
   "outputs": [],
   "source": [
    "class CompLoss(nn.Module):\n",
    "    def __init__(self):\n",
    "        super(CompLoss, self).__init__()\n",
    "        self.BCELoss = torch.nn.BCELoss(reduction=\"sum\")\n",
    "\n",
    "    def forward(self, pred, target):\n",
    "        return self.BCELoss(pred, target) + ssim(pred, target, 15, \"sum\")"
   ]
  },
  {
   "cell_type": "code",
   "execution_count": 321,
   "metadata": {},
   "outputs": [],
   "source": [
    "class SoRa(nn.Module):\n",
    "    def __init__(self, in_channels, out_channels, bias=True, reg_coef=0.2):\n",
    "        super(SoRa, self).__init__()\n",
    "        self.reg_coef = reg_coef\n",
    "        self.in_channels = in_channels\n",
    "        self.out_channels = out_channels\n",
    "        self.fc_layer = nn.Linear(in_channels, out_channels, bias=bias)\n",
    "        self.sora_mode = False\n",
    "        self.W1 = None\n",
    "        self.W2 = None\n",
    "        self.g = None\n",
    "\n",
    "    def activate(self, max_rank):\n",
    "        self.sora_mode = True\n",
    "        self.W1 = nn.Linear(self.in_channels, max_rank, bias=False)\n",
    "        self.W2 = nn.Linear(max_rank, self.out_channels, bias=False)\n",
    "        self.W2.weight = torch.nn.Parameter(torch.zeros_like(self.W2.weight), requires_grad=True)\n",
    "        self.g = torch.nn.Parameter(torch.ones(max_rank), requires_grad=True)\n",
    "        self.fc_layer.weight.requires_grad = False\n",
    "\n",
    "    def forward(self, x):\n",
    "        res = self.fc_layer(x)\n",
    "        if self.sora_mode:\n",
    "            res += self.W2(self.g * self.W1(x))\n",
    "        return res\n",
    "    \n",
    "    def gate(self, lr):\n",
    "        assert self.sora_mode == True\n",
    "        self.g.data =  torch.sgn(self.g) * torch.clamp(torch.abs(self.g) - lr * self.reg_coef, min=0)\n",
    "\n",
    "    def freeze(self):\n",
    "        assert self.sora_mode == True\n",
    "        self.g.detach()\n",
    "        self.W2.weight.detach()\n",
    "        self.W1.weight.detach()\n",
    "        self.fc_layer.weight = torch.nn.Parameter(self.fc_layer.weight + (self.g * self.W2.weight) @ self.W1.weight)\n",
    "        self.sora_mode = False\n",
    "        self.W1 = None\n",
    "        self.W2 = None\n",
    "        self.g = None\n",
    "\n",
    "\n",
    "class UNet(nn.Module):\n",
    "\n",
    "    def __init__(self, reg_coef=0.2):\n",
    "        super(UNet, self).__init__()\n",
    "\n",
    "        features = 4\n",
    "        self.encoder1 = UNet._block(3, features, name=\"enc1\")\n",
    "        self.pool1 = nn.MaxPool2d(kernel_size=2, stride=2)\n",
    "        self.encoder2 = UNet._block(features, features * 2, name=\"enc2\")\n",
    "        self.pool2 = nn.MaxPool2d(kernel_size=2, stride=2)\n",
    "        self.encoder3 = UNet._block(features * 2, features * 4, name=\"enc3\")\n",
    "        self.pool3 = nn.MaxPool2d(kernel_size=2, stride=2)\n",
    "        self.encoder4 = UNet._block(features * 4, features * 8, name=\"enc4\")\n",
    "        self.pool4 = nn.MaxPool2d(kernel_size=2, stride=2)\n",
    "        self.encoder5 = UNet._block(features * 8, features * 8, name=\"enc5\")\n",
    "        self.pool5 = nn.MaxPool2d(kernel_size=2, stride=2)\n",
    "        self.sora_modules = [SoRa(2048, 2048, bias=True, reg_coef=reg_coef)]\n",
    "        self.flat = nn.Flatten()\n",
    "        self.bottleneck = nn.Sequential(OrderedDict([(\"bottleneckfc\", self.sora_modules[0]), (\"bottleneckrelu\", nn.ReLU())]))\n",
    "\n",
    "        self.unflat = nn.Unflatten(1, (32, 8, 8))\n",
    "\n",
    "        self.upconv5 = nn.ConvTranspose2d(\n",
    "            features * 8, features * 8, kernel_size=2, stride=2\n",
    "        )\n",
    "        self.decoder5 = UNet._block((features * 8) * 2, features * 8, name=\"dec5\")\n",
    "\n",
    "        self.upconv4 = nn.ConvTranspose2d(\n",
    "            features * 8, features * 8, kernel_size=2, stride=2\n",
    "        )\n",
    "        self.decoder4 = UNet._block((features * 8) * 2, features * 8, name=\"dec4\")\n",
    "        self.upconv3 = nn.ConvTranspose2d(\n",
    "            features * 8, features * 4, kernel_size=2, stride=2\n",
    "        )\n",
    "        self.decoder3 = UNet._block((features * 4) * 2, features * 4, name=\"dec3\")\n",
    "        self.upconv2 = nn.ConvTranspose2d(\n",
    "            features * 4, features * 2, kernel_size=2, stride=2\n",
    "        )\n",
    "        self.decoder2 = UNet._block((features * 2) * 2, features * 2, name=\"dec2\")\n",
    "        self.upconv1 = nn.ConvTranspose2d(\n",
    "            features * 2, features, kernel_size=2, stride=2\n",
    "        )\n",
    "        self.decoder1 = UNet._block(features * 2, features, name=\"dec1\")\n",
    "\n",
    "        self.conv = nn.Conv2d(\n",
    "            in_channels=features, out_channels=1, kernel_size=1\n",
    "        )\n",
    "\n",
    "    def forward(self, x):\n",
    "        enc1 = self.encoder1(x)\n",
    "        enc2 = self.encoder2(self.pool1(enc1))\n",
    "        enc3 = self.encoder3(self.pool2(enc2))\n",
    "        enc4 = self.encoder4(self.pool3(enc3))\n",
    "        enc5 = self.encoder5(self.pool4(enc4))\n",
    "\n",
    "        bottleneck = self.flat(self.pool5(enc5))\n",
    "\n",
    "        bottleneck = self.bottleneck(bottleneck)\n",
    "\n",
    "        bottleneck = self.unflat(bottleneck)\n",
    "\n",
    "        dec5 = self.upconv5(bottleneck)\n",
    "        dec5 = torch.cat((dec5, enc5), dim=1)\n",
    "        dec5 = self.decoder5(dec5)\n",
    "\n",
    "        dec4 = self.upconv4(dec5)\n",
    "        dec4 = torch.cat((dec4, enc4), dim=1)\n",
    "        dec4 = self.decoder4(dec4)\n",
    "\n",
    "        dec3 = self.upconv3(dec4)\n",
    "        dec3 = torch.cat((dec3, enc3), dim=1)\n",
    "        dec3 = self.decoder3(dec3)\n",
    "        dec2 = self.upconv2(dec3)\n",
    "        dec2 = torch.cat((dec2, enc2), dim=1)\n",
    "        dec2 = self.decoder2(dec2)\n",
    "        dec1 = self.upconv1(dec2)\n",
    "        dec1 = torch.cat((dec1, enc1), dim=1)\n",
    "        dec1 = self.decoder1(dec1)\n",
    "        return torch.sigmoid(self.conv(dec1))\n",
    "\n",
    "    @staticmethod\n",
    "    def _block(in_channels, features, name):\n",
    "        return nn.Sequential(\n",
    "            OrderedDict(\n",
    "                [\n",
    "                    (\n",
    "                        name + \"conv1\",\n",
    "                        nn.Conv2d(\n",
    "                            in_channels=in_channels,\n",
    "                            out_channels=features,\n",
    "                            kernel_size=3,\n",
    "                            padding=1,\n",
    "                            bias=False,\n",
    "                        ),\n",
    "                    ),\n",
    "                    (name + \"norm1\", nn.BatchNorm2d(num_features=features)),\n",
    "                    (name + \"relu1\", nn.ReLU(inplace=True)),\n",
    "                    (\n",
    "                        name + \"conv2\",\n",
    "                        nn.Conv2d(\n",
    "                            in_channels=features,\n",
    "                            out_channels=features,\n",
    "                            kernel_size=3,\n",
    "                            padding=1,\n",
    "                            bias=False,\n",
    "                        ),\n",
    "                    ),\n",
    "                    (name + \"norm2\", nn.BatchNorm2d(num_features=features)),\n",
    "                    (name + \"relu2\", nn.ReLU(inplace=True)),\n",
    "                ]\n",
    "            )\n",
    "        )"
   ]
  },
  {
   "cell_type": "code",
   "execution_count": 331,
   "metadata": {},
   "outputs": [],
   "source": [
    "module = SoRa(16, 5)\n",
    "module.activate(3)\n",
    "\n",
    "optimizer = torch.optim.Adam(module.parameters(), lr=0.01)\n"
   ]
  },
  {
   "cell_type": "code",
   "execution_count": 332,
   "metadata": {},
   "outputs": [],
   "source": [
    "X = torch.rand(10, 16)\n",
    "y = torch.rand(10, 5)\n",
    "\n",
    "loss_val = []\n",
    "\n",
    "for i in range(10000):\n",
    "    optimizer.zero_grad()\n",
    "    y_pred = module(X)\n",
    "    loss = nn.MSELoss()(y_pred, y)\n",
    "    loss_val.append(loss.item())\n",
    "    loss.backward()\n",
    "    optimizer.step()\n",
    "    module.gate(0.01)"
   ]
  },
  {
   "cell_type": "code",
   "execution_count": 334,
   "metadata": {},
   "outputs": [
    {
     "data": {
      "image/png": "[encoded data removed]",
      "text/plain": [
       "<Figure size 640x480 with 1 Axes>"
      ]
     },
     "metadata": {},
     "output_type": "display_data"
    }
   ],
   "source": [
    "plt.yscale(\"log\")\n",
    "plt.title(\"Dummy pipeline\")\n",
    "plt.grid()\n",
    "plt.ylabel(\"loss\")\n",
    "plt.plot(loss_val)\n",
    "plt.show()"
   ]
  },
  {
   "cell_type": "code",
   "execution_count": 325,
   "metadata": {},
   "outputs": [
    {
     "data": {
      "text/plain": [
       "tensor([[0.5981, 0.7766, 0.2065, 0.1554, 0.7325],\n",
       "        [0.6586, 0.6685, 0.1614, 0.7389, 0.1726],\n",
       "        [0.2894, 0.5591, 0.5304, 0.5811, 0.7881],\n",
       "        [0.6553, 0.6053, 0.2582, 0.7535, 0.3847],\n",
       "        [0.8763, 0.7554, 0.5593, 0.3691, 0.4997],\n",
       "        [0.5820, 0.8733, 0.3946, 0.2169, 0.7690],\n",
       "        [0.9522, 0.6310, 0.2407, 0.3983, 0.5886],\n",
       "        [0.3508, 0.6578, 0.3238, 0.0069, 0.8933],\n",
       "        [0.7692, 0.6773, 0.2810, 0.4812, 0.4336],\n",
       "        [0.2747, 0.6326, 0.2690, 0.8459, 0.3697]], grad_fn=<AddBackward0>)"
      ]
     },
     "execution_count": 325,
     "metadata": {},
     "output_type": "execute_result"
    }
   ],
   "source": [
    "module(X)"
   ]
  },
  {
   "cell_type": "code",
   "execution_count": 326,
   "metadata": {},
   "outputs": [
    {
     "data": {
      "text/plain": [
       "tensor([[0.5981, 0.7766, 0.2065, 0.1554, 0.7325],\n",
       "        [0.6586, 0.6685, 0.1614, 0.7389, 0.1726],\n",
       "        [0.2894, 0.5591, 0.5304, 0.5811, 0.7881],\n",
       "        [0.6553, 0.6053, 0.2582, 0.7535, 0.3847],\n",
       "        [0.8763, 0.7554, 0.5593, 0.3691, 0.4997],\n",
       "        [0.5820, 0.8733, 0.3946, 0.2169, 0.7690],\n",
       "        [0.9522, 0.6310, 0.2407, 0.3983, 0.5886],\n",
       "        [0.3508, 0.6578, 0.3238, 0.0069, 0.8933],\n",
       "        [0.7692, 0.6773, 0.2810, 0.4812, 0.4336],\n",
       "        [0.2747, 0.6326, 0.2690, 0.8459, 0.3697]], grad_fn=<AddmmBackward0>)"
      ]
     },
     "execution_count": 326,
     "metadata": {},
     "output_type": "execute_result"
    }
   ],
   "source": [
    "module.freeze()\n",
    "module(X)"
   ]
  },
  {
   "cell_type": "code",
   "execution_count": 327,
   "metadata": {},
   "outputs": [
    {
     "data": {
      "text/plain": [
       "Parameter containing:\n",
       "tensor([[-0.0945, -0.2341,  0.2191, -0.1530,  0.0606, -0.0108, -0.2642, -0.0466,\n",
       "         -0.2074,  0.0884, -0.0040, -0.1146,  0.4041, -0.0510, -0.0449, -0.1117],\n",
       "        [ 0.0230,  0.0837,  0.0958,  0.1381, -0.0727, -0.0165, -0.2493, -0.1397,\n",
       "         -0.0388, -0.1085,  0.0245, -0.0086, -0.0217, -0.1767,  0.0273, -0.0026],\n",
       "        [-0.0604,  0.1126, -0.0632,  0.0581,  0.0017, -0.0167, -0.2522,  0.1690,\n",
       "          0.0593,  0.0275, -0.1619,  0.1629,  0.0884,  0.2157, -0.1065,  0.0940],\n",
       "        [-0.0031,  0.1337, -0.3348, -0.0265,  0.3369,  0.1785,  0.3800, -0.1285,\n",
       "          0.5232,  0.3639,  0.2234,  0.3893,  0.1388,  0.0352,  0.0967, -0.0090],\n",
       "        [-0.1246,  0.0065,  0.0775,  0.0600, -0.2323, -0.1517, -0.2278,  0.3176,\n",
       "         -0.2444, -0.2133, -0.1713, -0.1706, -0.1462,  0.2111,  0.1188,  0.1395]],\n",
       "       requires_grad=True)"
      ]
     },
     "execution_count": 327,
     "metadata": {},
     "output_type": "execute_result"
    }
   ],
   "source": [
    "module.fc_layer.weight"
   ]
  },
  {
   "cell_type": "code",
   "execution_count": 290,
   "metadata": {},
   "outputs": [],
   "source": [
    "image = torch.tensor(np.rollaxis(skimage.io.imread(\"data/EGOHAND/images/0000.jpg\"), 2, 0)).float()\n",
    "mask = torch.tensor(skimage.io.imread(\"data/EGOHAND/masks/0000.jpg\")).float()"
   ]
  },
  {
   "cell_type": "code",
   "execution_count": 350,
   "metadata": {},
   "outputs": [],
   "source": [
    "class getDataset(Dataset):\n",
    "    def __init__(self, name, indexes=None):\n",
    "        self.image_path = f\"data/{name}/images/\"\n",
    "        self.mask_path = f\"data/{name}/masks/\"\n",
    "        self.files = os.listdir(self.image_path)\n",
    "\n",
    "        if indexes is None:\n",
    "            indexes = np.arange(len(self.files))\n",
    "\n",
    "        self.transform = transforms.Compose([\n",
    "            transforms.ToTensor(),\n",
    "            transforms.Normalize((0.485, 0.456, 0.406), (0.229, 0.224, 0.225)),\n",
    "            transforms.GaussianBlur(5, sigma=(0.2, 0.2))\n",
    "        ])\n",
    "\n",
    "        self.images = []\n",
    "        self.masks = []\n",
    "\n",
    "        for ind in indexes:\n",
    "            file = self.files[ind]\n",
    "            new_image = skimage.io.imread(self.image_path + file).astype(float)\n",
    "            self.images.append(self.transform(new_image).float())\n",
    "            new_mask = skimage.io.imread(self.mask_path + file).astype(float) / 255\n",
    "            self.masks.append(transforms.ToTensor()(new_mask).float())\n",
    "\n",
    "    def __len__(self):\n",
    "        return len(self.images)\n",
    "    \n",
    "    def __getitem__(self, index):\n",
    "        return self.images[index], self.masks[index]"
   ]
  },
  {
   "cell_type": "code",
   "execution_count": 351,
   "metadata": {},
   "outputs": [],
   "source": [
    "dataset = getDataset(\"EGOHAND\")\n",
    "\n",
    "train_loader = torch.utils.data.DataLoader(dataset, batch_size=128)\n",
    "test_loader = torch.utils.data.DataLoader(dataset, batch_size=128)  "
   ]
  },
  {
   "cell_type": "code",
   "execution_count": 352,
   "metadata": {},
   "outputs": [],
   "source": [
    "def train(model, optimizer, scheduler, train_loader, criterion, val_loader, n_epochs):\n",
    "\n",
    "    train_losses = []\n",
    "    val_losses = []\n",
    "\n",
    "    for epoch in range(n_epochs):\n",
    "        model.train()\n",
    "        train_losses_per_epoch = []\n",
    "\n",
    "        for batch in tqdm(train_loader):\n",
    "            X_batch, y_batch = batch\n",
    "            optimizer.zero_grad()\n",
    "            y_pred = model(X_batch.to(device))\n",
    "            loss = criterion(y_pred, y_batch.to(device))\n",
    "            loss.backward()\n",
    "            optimizer.step()\n",
    "            train_losses_per_epoch.append(loss.item())\n",
    "\n",
    "        train_losses.append(np.mean(train_losses_per_epoch))\n",
    "        model.eval()\n",
    "        val_losses_per_epoch = []\n",
    "        with torch.no_grad():\n",
    "            for batch in val_loader:\n",
    "                X_batch, y_batch = batch\n",
    "                y_pred = model(X_batch.to(device))\n",
    "                loss = criterion(y_pred, y_batch.to(device))\n",
    "                val_losses_per_epoch.append(loss.item())\n",
    "\n",
    "\n",
    "        val_losses.append(np.mean(val_losses_per_epoch))\n",
    "        scheduler.step(val_losses[epoch])\n",
    "        clear_output(wait=True)\n",
    "\n",
    "        fig, ax = plt.subplots(1, 2, figsize=[12, 5])\n",
    "        ax[0].grid()\n",
    "        ax[0].set_xlabel(\"epoch\")\n",
    "        ax[0].set_ylabel(\"loss val\")\n",
    "        ax[0].plot(train_losses, label=\"train loss\")\n",
    "        ax[0].plot(val_losses, label=\"test loss\")\n",
    "        ax[0].legend()\n",
    "        \"\"\"\n",
    "        ax[1].grid()\n",
    "        ax[1].set_xlabel(\"epoch\")\n",
    "        ax[1].set_ylabel(\"acc val\")\n",
    "        ax[1].plot(train_acc, label=\"train acc\")\n",
    "        ax[1].plot(val_acc, label=\"test acc\")\n",
    "        ax[1].legend()\n",
    "        \"\"\"\n",
    "        plt.show()\n",
    "\n",
    "    return train_losses, val_losses"
   ]
  },
  {
   "cell_type": "code",
   "execution_count": null,
   "metadata": {},
   "outputs": [],
   "source": [
    "model=UNet()\n",
    "\n",
    "n_epochs = 10\n",
    "optimizer = torch.optim.Adam(model.parameters(), lr= 1e-4)\n",
    "scheduler = torch.optim.lr_scheduler.ReduceLROnPlateau(optimizer, mode='min', factor=0.2, patience=5, verbose=True, min_lr=1e-6)\n",
    "criterion = CompLoss()\n",
    "\n",
    "history_resnet50 = train(model, optimizer, scheduler, train_loader, criterion, test_loader, n_epochs)"
   ]
  },
  {
   "cell_type": "code",
   "execution_count": null,
   "metadata": {},
   "outputs": [],
   "source": []
  }
 ],
 "metadata": {
  "kernelspec": {
   "display_name": "Python 3",
   "language": "python",
   "name": "python3"
  },
  "language_info": {
   "codemirror_mode": {
    "name": "ipython",
    "version": 3
   },
   "file_extension": ".py",
   "mimetype": "text/x-python",
   "name": "python",
   "nbconvert_exporter": "python",
   "pygments_lexer": "ipython3",
   "version": "3.11.2"
  }
 },
 "nbformat": 4,
 "nbformat_minor": 2
}
